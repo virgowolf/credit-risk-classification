# Import the modules
import numpy as np
import pandas as pd
from pathlib import Path
from sklearn.metrics import confusion_matrix, classification_report, accuracy_score











# Read the CSV file from the Resources folder into a Pandas DataFrame
Path = "Resources/lending_data.csv"

df_lending = pd.read_csv(Path)

# Review the DataFrame
df_lending





# Separate the data into labels and features
# Separate the y variable, the labels
y = df_lending["loan_status"].values.reshape(-1, 1)
y[:5]

# Separate the X variable, the features
X = df_lending.copy()
X.drop("loan_status", axis=1, inplace=True)
X.head()


# Review the y variable Series
y[:5]


# Review the X variable DataFrame
X[:5]





# Import the train_test_learn module
from sklearn.model_selection import train_test_split

# Split the data using train_test_split into Train and Test sets
X_train, X_test, y_train, y_test = train_test_split(X, y, random_state=1)











# Import the LogisticRegression module from SKLearn
from sklearn.linear_model import LogisticRegression

# Instantiate the Logistic Regression model
# Assign a random_state parameter of 1 to the model
classifier = LogisticRegression(solver='lbfgs', random_state=1)

# Fit the model using training data
classifier.fit(X_train, y_train)





# Make a prediction using the testing data
predictions = classifier.predict(X_test)





# Generate a confusion matrix for the model
cm = confusion_matrix(y_test, predictions)
cm_df = pd.DataFrame(
    cm, index=["Actual 0", "Actual 1"], columns=["Predicted 0", "Predicted 1"]
)


# Print the classification report for the model
# Calculating the accuracy score
acc_score = accuracy_score(y_test, predictions)

# Displaying results
print("Confusion Matrix")
display(cm_df)
print(f"Accuracy Score : {acc_score}")
print("Classification Report")
print(classification_report(y_test, predictions))









